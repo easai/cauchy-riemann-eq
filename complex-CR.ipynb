{
 "cells": [
  {
   "cell_type": "markdown",
   "metadata": {},
   "source": [
    "# CR 方程式\n",
    "\n",
    "複素数関数が微分可能であるためには CR 方程式（コーシー・リーマンの方程式）を満たすことが必要十分条件です。\n",
    "\n",
    "関数$f$の実部を$u$、虚部を$v$とすれば\n",
    "\\begin{align}\n",
    "z&=x+i*y\\\\\n",
    "f(z)&=u(x,y)+v(x,y)\n",
    "\\end{align}\n",
    "$u,v$が微分可能で以下を満たす、というのがCRの条件です。\n",
    "\\begin{align}\n",
    "u_x&=u_y\\\\\n",
    "u_y&=-u_x\n",
    "\\end{align}\n",
    "\n",
    "$f(z)=z^2$の場合、実部は$u=x^2-y^2$、虚部は$v=2xy$となります。"
   ]
  },
  {
   "cell_type": "code",
   "execution_count": 84,
   "metadata": {},
   "outputs": [],
   "source": [
    "from sympy import symbols, I, diff, re,im, Abs\n",
    "\n",
    "x,y=symbols(\"x y\",real=True)\n",
    "f=(x+I*y)**2\n",
    "\n",
    "u=re(f)\n",
    "v=im(f)"
   ]
  },
  {
   "cell_type": "markdown",
   "metadata": {},
   "source": [
    "$u_x,v_y,u_y,v_x$を計算するとCR方程式を満たすのが分かります。"
   ]
  },
  {
   "cell_type": "code",
   "execution_count": 85,
   "metadata": {},
   "outputs": [
    {
     "data": {
      "text/plain": [
       "True"
      ]
     },
     "execution_count": 85,
     "metadata": {},
     "output_type": "execute_result"
    }
   ],
   "source": [
    "diff(u,x)==diff(v,y) and diff(u,y)==-diff(v,x)"
   ]
  },
  {
   "cell_type": "markdown",
   "metadata": {},
   "source": [
    "$f(z)=|z|^2$ ではCR方程式を満たしません。よって微分可能ではありません。"
   ]
  },
  {
   "cell_type": "code",
   "execution_count": 86,
   "metadata": {},
   "outputs": [
    {
     "data": {
      "text/plain": [
       "False"
      ]
     },
     "execution_count": 86,
     "metadata": {},
     "output_type": "execute_result"
    }
   ],
   "source": [
    "f=Abs(x+I*y)**2\n",
    "\n",
    "u=re(f)\n",
    "v=im(f)\n",
    "\n",
    "diff(u,x)==diff(v,y) and diff(u,y)==-diff(v,x)"
   ]
  }
 ],
 "metadata": {
  "kernelspec": {
   "display_name": "Python 3",
   "language": "python",
   "name": "python3"
  },
  "language_info": {
   "codemirror_mode": {
    "name": "ipython",
    "version": 3
   },
   "file_extension": ".py",
   "mimetype": "text/x-python",
   "name": "python",
   "nbconvert_exporter": "python",
   "pygments_lexer": "ipython3",
   "version": "3.11.5"
  }
 },
 "nbformat": 4,
 "nbformat_minor": 2
}
