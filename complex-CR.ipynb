{
 "cells": [
  {
   "cell_type": "markdown",
   "metadata": {},
   "source": [
    "# CR 方程式\n",
    "\n",
    "複素数関数が微分可能であるためには CR 方程式（コーシー・リーマンの方程式）を満たすことが必要十分条件です。\n",
    "\n",
    "関数$f$の実部を$u$、虚部を$v$とすれば\n",
    "\\begin{align}\n",
    "z&=x+i\\cdot y\\\\\n",
    "f(z)&=u(x,y)+v(x,y)\n",
    "\\end{align}\n",
    "$u,v$が微分可能で以下を満たす、というのがCRの条件です。\n",
    "\\begin{align}\n",
    "u_x&=u_y\\\\\n",
    "u_y&=-u_x\n",
    "\\end{align}\n",
    "\n",
    "$f(z)=z^2$の場合、実部は$u=x^2-y^2$、虚部は$v=2xy$となります。"
   ]
  },
  {
   "cell_type": "code",
   "execution_count": 84,
   "metadata": {},
   "outputs": [],
   "source": [
    "from sympy import symbols, I, diff, re, im, Abs\n",
    "\n",
    "x, y = symbols(\"x y\", real=True)\n",
    "f = (x + I * y) ** 2\n",
    "\n",
    "u = re(f)\n",
    "v = im(f)"
   ]
  },
  {
   "cell_type": "markdown",
   "metadata": {},
   "source": [
    "$u_x,v_y,u_y,v_x$を計算するとCR方程式を満たすのが分かります。微分可能で正則、解析的であることが言えます。\n",
    "\n",
    "Sympy では変数そのものでしか微分できません。$x=\\operatorname{re}(z), y=\\operatorname{im}(z)$ など指定すると $x,y$ で微分することはできないので実部・虚部で分解して ($z=x+I*y$) 記述します。"
   ]
  },
  {
   "cell_type": "code",
   "execution_count": 85,
   "metadata": {},
   "outputs": [
    {
     "data": {
      "text/plain": [
       "True"
      ]
     },
     "execution_count": 85,
     "metadata": {},
     "output_type": "execute_result"
    }
   ],
   "source": [
    "diff(u, x) == diff(v, y) and diff(u, y) == -diff(v, x)"
   ]
  },
  {
   "cell_type": "markdown",
   "metadata": {},
   "source": [
    "$f(z)=|z|^2$ ではCR方程式を満たしません。よって微分可能ではありません。"
   ]
  },
  {
   "cell_type": "code",
   "execution_count": 86,
   "metadata": {},
   "outputs": [
    {
     "data": {
      "text/plain": [
       "False"
      ]
     },
     "execution_count": 86,
     "metadata": {},
     "output_type": "execute_result"
    }
   ],
   "source": [
    "f = Abs(x + I * y) ** 2\n",
    "\n",
    "u = re(f)\n",
    "v = im(f)\n",
    "\n",
    "diff(u, x) == diff(v, y) and diff(u, y) == -diff(v, x)"
   ]
  },
  {
   "cell_type": "markdown",
   "metadata": {},
   "source": [
    "ここで共役複素数を考えると面白い性質が導けます。\n",
    "\\begin{align}\n",
    "z=x+iy\\\\\n",
    "\\bar{z}=x-iy\\\\\n",
    "\\end{align}\n",
    "$x, y$を次のように表します。\n",
    "\\begin{align}\n",
    "x=\\frac{z+\\bar{z}}{2}\\\\\n",
    "y=\\frac{z-\\bar{z}}{2}\\\\\n",
    "\\end{align}\n",
    "共役複素数で微分することを考えます。\n",
    "\\begin{align}\n",
    "\\frac{\\partial}{\\partial \\bar{z}}=\\frac{\\partial x}{\\partial \\bar{z}}\\frac{\\partial}{\\partial x}+\\frac{\\partial y}{\\partial \\bar{z}}\\frac{\\partial}{\\partial y}=\\frac{1}{2}\\left(\\frac{\\partial}{\\partial x}+i\\frac{\\partial}{\\partial y}\\right)\n",
    "\\end{align}\n",
    "これで$f$を微分します。\n",
    "\\begin{align}\n",
    "\\frac{\\partial f}{\\partial \\bar{z}}=\\frac{1}{2}\\left(\\frac{\\partial}{\\partial x}+i\\frac{\\partial}{\\partial y}\\right)\\left(u+i\\cdot v\\right)=\\frac{1}{2}\\left(\\frac{\\partial u}{\\partial x}-\\frac{\\partial v}{\\partial y}\\right)+\\frac{i}{2}\\left(\\frac{\\partial u}{\\partial x}+\\frac{\\partial v}{\\partial y}\\right)\n",
    "\\end{align}\n",
    "ここから\n",
    "$$\n",
    "\\frac{\\partial f}{\\partial \\bar{z}}=0\n",
    "$$\n",
    "がCR方程式の必要十分条件であることがいえます。つまり、$\\bar{z}$の出てくる方程式は微分できません。"
   ]
  },
  {
   "cell_type": "markdown",
   "metadata": {},
   "source": [
    "sympy では残念ながら微分可能性の判定をしないので、絶対値を含む関数の微分をとると意味不明な結果を出してきます。ここは例外を出すべきかもしれません。"
   ]
  }
 ],
 "metadata": {
  "kernelspec": {
   "display_name": "Python 3",
   "language": "python",
   "name": "python3"
  },
  "language_info": {
   "codemirror_mode": {
    "name": "ipython",
    "version": 3
   },
   "file_extension": ".py",
   "mimetype": "text/x-python",
   "name": "python",
   "nbconvert_exporter": "python",
   "pygments_lexer": "ipython3",
   "version": "3.11.5"
  }
 },
 "nbformat": 4,
 "nbformat_minor": 2
}
