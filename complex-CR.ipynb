{
 "cells": [
  {
   "cell_type": "markdown",
   "metadata": {},
   "source": [
    "# CR 方程式\n",
    "\n",
    "複素数関数が微分可能であるためには CR 方程式（コーシー・リーマンの方程式）を満たすことが必要十分条件です。\n",
    "\n",
    "関数$f$の実部を$u$、虚部を$v$とすれば\n",
    "$$\n",
    "z=x+i*y\\\\\n",
    "f(z)=u(x,y)+v(x,y)\n",
    "$$\n",
    "$u,v$が微分可能で以下を満たす、というのがCRの条件です。\n",
    "$$\n",
    "u_x=u_y\\\\\n",
    "u_y=-u_x\n",
    "$$"
   ]
  },
  {
   "cell_type": "code",
   "execution_count": 19,
   "metadata": {},
   "outputs": [
    {
     "data": {
      "text/latex": [
       "$\\displaystyle \\frac{2 \\left(\\operatorname{re}{\\left(z\\right)} \\frac{d}{d z} \\operatorname{re}{\\left(z\\right)} + \\operatorname{im}{\\left(z\\right)} \\frac{d}{d z} \\operatorname{im}{\\left(z\\right)}\\right) \\left|{z}\\right| \\operatorname{sign}{\\left(z \\right)}}{z}$"
      ],
      "text/plain": [
       "2*(re(z)*Derivative(re(z), z) + im(z)*Derivative(im(z), z))*Abs(z)*sign(z)/z"
      ]
     },
     "execution_count": 19,
     "metadata": {},
     "output_type": "execute_result"
    }
   ],
   "source": [
    "import sympy\n",
    "from sympy import symbols, I, diff, Abs\n",
    "\n",
    "z=symbols(\"z\")\n",
    "f=Abs(z)**2\n",
    "diff(f,z)"
   ]
  },
  {
   "cell_type": "code",
   "execution_count": 20,
   "metadata": {},
   "outputs": [
    {
     "data": {
      "text/latex": [
       "$\\displaystyle \\frac{2 \\left(\\left(\\operatorname{re}{\\left(x\\right)} - \\operatorname{im}{\\left(y\\right)}\\right) \\frac{d}{d x} \\operatorname{re}{\\left(x\\right)} + \\left(\\operatorname{re}{\\left(y\\right)} + \\operatorname{im}{\\left(x\\right)}\\right) \\frac{d}{d x} \\operatorname{im}{\\left(x\\right)}\\right) \\left|{x + i y}\\right| \\operatorname{sign}{\\left(x + i y \\right)}}{x + i y}$"
      ],
      "text/plain": [
       "2*((re(x) - im(y))*Derivative(re(x), x) + (re(y) + im(x))*Derivative(im(x), x))*Abs(x + I*y)*sign(x + I*y)/(x + I*y)"
      ]
     },
     "execution_count": 20,
     "metadata": {},
     "output_type": "execute_result"
    }
   ],
   "source": [
    "from sympy import re,im\n",
    "\n",
    "x,y=symbols(\"x y\")\n",
    "f=Abs(x+I*y)**2\n",
    "\n",
    "diff(re(f),x)"
   ]
  },
  {
   "cell_type": "code",
   "execution_count": 21,
   "metadata": {},
   "outputs": [
    {
     "data": {
      "text/latex": [
       "$\\displaystyle 0$"
      ],
      "text/plain": [
       "0"
      ]
     },
     "execution_count": 21,
     "metadata": {},
     "output_type": "execute_result"
    }
   ],
   "source": [
    "diff(im(f),y)"
   ]
  },
  {
   "cell_type": "code",
   "execution_count": 22,
   "metadata": {},
   "outputs": [
    {
     "data": {
      "text/latex": [
       "$\\displaystyle 0$"
      ],
      "text/plain": [
       "0"
      ]
     },
     "execution_count": 22,
     "metadata": {},
     "output_type": "execute_result"
    }
   ],
   "source": [
    "diff(im(f),x)"
   ]
  },
  {
   "cell_type": "code",
   "execution_count": 23,
   "metadata": {},
   "outputs": [
    {
     "data": {
      "text/latex": [
       "$\\displaystyle \\frac{2 \\left(- \\left(\\operatorname{re}{\\left(x\\right)} - \\operatorname{im}{\\left(y\\right)}\\right) \\frac{d}{d y} \\operatorname{im}{\\left(y\\right)} + \\left(\\operatorname{re}{\\left(y\\right)} + \\operatorname{im}{\\left(x\\right)}\\right) \\frac{d}{d y} \\operatorname{re}{\\left(y\\right)}\\right) \\left|{x + i y}\\right| \\operatorname{sign}{\\left(x + i y \\right)}}{x + i y}$"
      ],
      "text/plain": [
       "2*(-(re(x) - im(y))*Derivative(im(y), y) + (re(y) + im(x))*Derivative(re(y), y))*Abs(x + I*y)*sign(x + I*y)/(x + I*y)"
      ]
     },
     "execution_count": 23,
     "metadata": {},
     "output_type": "execute_result"
    }
   ],
   "source": [
    "diff(re(f),y)"
   ]
  }
 ],
 "metadata": {
  "kernelspec": {
   "display_name": "Python 3",
   "language": "python",
   "name": "python3"
  },
  "language_info": {
   "codemirror_mode": {
    "name": "ipython",
    "version": 3
   },
   "file_extension": ".py",
   "mimetype": "text/x-python",
   "name": "python",
   "nbconvert_exporter": "python",
   "pygments_lexer": "ipython3",
   "version": "3.11.5"
  }
 },
 "nbformat": 4,
 "nbformat_minor": 2
}
