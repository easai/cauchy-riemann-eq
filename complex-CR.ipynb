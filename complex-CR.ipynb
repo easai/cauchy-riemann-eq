{
 "cells": [
  {
   "cell_type": "markdown",
   "metadata": {},
   "source": [
    "# CR 方程式\n",
    "\n",
    "複素数関数が微分可能であるためには CR 方程式（コーシー・リーマンの方程式）を満たすことが必要十分条件です。\n",
    "\n",
    "関数$f$の実部を$u$、虚部を$v$とすれば\n",
    "\\begin{align}\n",
    "z&=x+i*y\\\\\n",
    "f(z)&=u(x,y)+v(x,y)\n",
    "\\end{align}\n",
    "$u,v$が微分可能で以下を満たす、というのがCRの条件です。\n",
    "\\begin{align}\n",
    "u_x&=u_y\\\\\n",
    "u_y&=-u_x\n",
    "\\end{align}\n",
    "\n",
    "$f(z)=z**2$$の場合、実部は$u=x^2-y^2$、虚部は$v=2xy$となります。"
   ]
  },
  {
   "cell_type": "code",
   "execution_count": 40,
   "metadata": {},
   "outputs": [
    {
     "data": {
      "text/latex": [
       "$\\displaystyle x^{2} + 2 i x y - y^{2}$"
      ],
      "text/plain": [
       "x**2 + 2*I*x*y - y**2"
      ]
     },
     "execution_count": 40,
     "metadata": {},
     "output_type": "execute_result"
    }
   ],
   "source": [
    "from sympy import symbols, I, diff, re,im, expand\n",
    "\n",
    "x,y=symbols(\"x y\")\n",
    "f=(x+I*y)**2\n",
    "\n",
    "expand(f)"
   ]
  },
  {
   "cell_type": "markdown",
   "metadata": {},
   "source": [
    "$u_x,v_y,u_y,v_x$を計算するとCR方程式を満たすのが分かります。"
   ]
  },
  {
   "cell_type": "code",
   "execution_count": 41,
   "metadata": {},
   "outputs": [
    {
     "data": {
      "text/latex": [
       "$\\displaystyle 2 x$"
      ],
      "text/plain": [
       "2*x"
      ]
     },
     "execution_count": 41,
     "metadata": {},
     "output_type": "execute_result"
    }
   ],
   "source": [
    "u=x**2-y**2\n",
    "diff(u,x)"
   ]
  },
  {
   "cell_type": "code",
   "execution_count": 42,
   "metadata": {},
   "outputs": [
    {
     "data": {
      "text/latex": [
       "$\\displaystyle 2 x$"
      ],
      "text/plain": [
       "2*x"
      ]
     },
     "execution_count": 42,
     "metadata": {},
     "output_type": "execute_result"
    }
   ],
   "source": [
    "v=2*x*y\n",
    "diff(v,y)"
   ]
  },
  {
   "cell_type": "code",
   "execution_count": 43,
   "metadata": {},
   "outputs": [
    {
     "data": {
      "text/latex": [
       "$\\displaystyle - 2 y$"
      ],
      "text/plain": [
       "-2*y"
      ]
     },
     "execution_count": 43,
     "metadata": {},
     "output_type": "execute_result"
    }
   ],
   "source": [
    "diff(u,y)"
   ]
  },
  {
   "cell_type": "code",
   "execution_count": 44,
   "metadata": {},
   "outputs": [
    {
     "data": {
      "text/latex": [
       "$\\displaystyle 2 y$"
      ],
      "text/plain": [
       "2*y"
      ]
     },
     "execution_count": 44,
     "metadata": {},
     "output_type": "execute_result"
    }
   ],
   "source": [
    "diff(v,x)"
   ]
  }
 ],
 "metadata": {
  "kernelspec": {
   "display_name": "Python 3",
   "language": "python",
   "name": "python3"
  },
  "language_info": {
   "codemirror_mode": {
    "name": "ipython",
    "version": 3
   },
   "file_extension": ".py",
   "mimetype": "text/x-python",
   "name": "python",
   "nbconvert_exporter": "python",
   "pygments_lexer": "ipython3",
   "version": "3.11.5"
  }
 },
 "nbformat": 4,
 "nbformat_minor": 2
}
